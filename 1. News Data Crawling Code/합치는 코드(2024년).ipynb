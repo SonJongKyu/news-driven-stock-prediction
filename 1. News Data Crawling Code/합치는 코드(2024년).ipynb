{
 "cells": [
  {
   "cell_type": "code",
   "execution_count": 1,
   "id": "cdd47fdb",
   "metadata": {},
   "outputs": [],
   "source": [
    "import pandas as pd\n",
    "import glob\n",
    "\n",
    "# 1. 현재 폴더의 모든 \"_뉴스_감성분석.csv\" 파일을 가져오기\n",
    "file_list = glob.glob(\"*_2024년_뉴스.csv\")\n",
    "\n",
    "# 2. 병합 수행\n",
    "merged_df = pd.concat([pd.read_csv(file, encoding=\"utf-8-sig\") for file in file_list], ignore_index=True)\n",
    "\n",
    "# 3. 저장 - utf-8-sig로 인코딩하면 Excel에서 한글 안 깨짐\n",
    "merged_df.to_csv(\"조선_2024년_뉴스.csv\", index=False, encoding=\"utf-8-sig\")"
   ]
  }
 ],
 "metadata": {
  "kernelspec": {
   "display_name": "Python 3",
   "language": "python",
   "name": "python3"
  },
  "language_info": {
   "codemirror_mode": {
    "name": "ipython",
    "version": 3
   },
   "file_extension": ".py",
   "mimetype": "text/x-python",
   "name": "python",
   "nbconvert_exporter": "python",
   "pygments_lexer": "ipython3",
   "version": "3.13.3"
  }
 },
 "nbformat": 4,
 "nbformat_minor": 5
}
