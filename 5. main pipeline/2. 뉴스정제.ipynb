{
 "cells": [
  {
   "cell_type": "code",
   "execution_count": 6,
   "id": "cdd47fdb",
   "metadata": {},
   "outputs": [
    {
     "name": "stdout",
     "output_type": "stream",
     "text": [
      "✅ 감성 비율 포함 파일 저장 완료: 4. 뉴스_감성비율_요약.csv\n"
     ]
    }
   ],
   "source": [
    "import pandas as pd\n",
    "\n",
    "# 1. 데이터 불러오기\n",
    "df = pd.read_csv(\"3. 조선_2024년_뉴스_감성분류.csv\")\n",
    "df.columns = df.columns.str.strip()\n",
    "df['날짜'] = pd.to_datetime(df['날짜'])\n",
    "\n",
    "# 2. 감성 one-hot 인코딩\n",
    "df['긍정'] = (df['감성'] == '긍정').astype(int)\n",
    "df['부정'] = (df['감성'] == '부정').astype(int)\n",
    "df['중립'] = (df['감성'] == '중립').astype(int)\n",
    "\n",
    "# 3. 날짜 + 기업 기준 감성 카운트 집계\n",
    "agg = df.groupby(['날짜', '기업명'])[['긍정', '부정', '중립']].sum().reset_index()\n",
    "agg['전체뉴스수'] = agg[['긍정', '부정', '중립']].sum(axis=1)\n",
    "\n",
    "# 4. 감성 비율 피처 생성\n",
    "agg['감성_긍정비율'] = agg['긍정'] / (agg['긍정'] + agg['부정'] + 1e-6)\n",
    "agg['감성_부정비율'] = agg['부정'] / (agg['긍정'] + agg['부정'] + 1e-6)\n",
    "\n",
    "# 5. 결과 저장\n",
    "agg.to_csv(\"4. 뉴스_감성비율_요약.csv\", index=False, encoding=\"utf-8-sig\")\n",
    "print(\"✅ 감성 비율 포함 파일 저장 완료: 4. 뉴스_감성비율_요약.csv\")\n"
   ]
  }
 ],
 "metadata": {
  "kernelspec": {
   "display_name": "Python 3",
   "language": "python",
   "name": "python3"
  },
  "language_info": {
   "codemirror_mode": {
    "name": "ipython",
    "version": 3
   },
   "file_extension": ".py",
   "mimetype": "text/x-python",
   "name": "python",
   "nbconvert_exporter": "python",
   "pygments_lexer": "ipython3",
   "version": "3.13.3"
  }
 },
 "nbformat": 4,
 "nbformat_minor": 5
}
