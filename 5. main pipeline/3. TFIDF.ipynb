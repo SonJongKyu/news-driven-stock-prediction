{
 "cells": [
  {
   "cell_type": "code",
   "execution_count": 2,
   "id": "cdd47fdb",
   "metadata": {},
   "outputs": [
    {
     "name": "stdout",
     "output_type": "stream",
     "text": [
      "✅ TF-IDF 키워드 그룹 점수 생성 완료: 5. 뉴스_TFIDF_분석포함.csv\n"
     ]
    }
   ],
   "source": [
    "import pandas as pd\n",
    "from sklearn.feature_extraction.text import TfidfVectorizer\n",
    "\n",
    "# 1. 데이터 불러오기\n",
    "df = pd.read_csv(\"2. 조선_2024년_뉴스.csv\")\n",
    "df.columns = df.columns.str.strip()\n",
    "df['뉴스제목'] = df['뉴스제목'].fillna(\"\")\n",
    "\n",
    "# 2. TF-IDF 변환\n",
    "vectorizer = TfidfVectorizer(max_features=5000)\n",
    "X_tfidf = vectorizer.fit_transform(df['뉴스제목'])\n",
    "feature_names = vectorizer.get_feature_names_out()\n",
    "tfidf_df = pd.DataFrame(X_tfidf.toarray(), columns=feature_names)\n",
    "\n",
    "# 3. 키워드 그룹 정의\n",
    "keyword_groups = {\n",
    "    '수주': ['수주', '계약', '납품', '공급', '수출'],\n",
    "    '실적': ['실적', '이익', '매출', '흑자', '적자'],\n",
    "    '미국': ['미국', '美', '연준', '금리', '인플레이션']\n",
    "}\n",
    "\n",
    "# 4. 그룹별 TF-IDF 점수 생성\n",
    "for group_name, keywords in keyword_groups.items():\n",
    "    tfidf_cols = [word for word in keywords if word in tfidf_df.columns]\n",
    "    if tfidf_cols:\n",
    "        df[f'tfidf_{group_name}'] = tfidf_df[tfidf_cols].sum(axis=1)\n",
    "    else:\n",
    "        df[f'tfidf_{group_name}'] = 0.0\n",
    "\n",
    "# 5. 날짜 + 기업 기준 집계\n",
    "df['날짜'] = pd.to_datetime(df['날짜'])\n",
    "agg = df.groupby(['날짜', '기업명'])[[f'tfidf_{key}' for key in keyword_groups]].mean().reset_index()\n",
    "\n",
    "# 6. 저장\n",
    "agg.to_csv(\"5. 뉴스_TFIDF_분석포함.csv\", index=False, encoding='utf-8-sig')\n",
    "print(\"✅ TF-IDF 키워드 그룹 점수 생성 완료: 5. 뉴스_TFIDF_분석포함.csv\")\n"
   ]
  }
 ],
 "metadata": {
  "kernelspec": {
   "display_name": "Python 3",
   "language": "python",
   "name": "python3"
  },
  "language_info": {
   "codemirror_mode": {
    "name": "ipython",
    "version": 3
   },
   "file_extension": ".py",
   "mimetype": "text/x-python",
   "name": "python",
   "nbconvert_exporter": "python",
   "pygments_lexer": "ipython3",
   "version": "3.13.3"
  }
 },
 "nbformat": 4,
 "nbformat_minor": 5
}
