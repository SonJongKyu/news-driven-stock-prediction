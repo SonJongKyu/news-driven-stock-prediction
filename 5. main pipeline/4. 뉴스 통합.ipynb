{
 "cells": [
  {
   "cell_type": "code",
   "execution_count": 1,
   "id": "cdd47fdb",
   "metadata": {},
   "outputs": [
    {
     "name": "stdout",
     "output_type": "stream",
     "text": [
      "✅ 뉴스 기반 피처 병합 완료: 6. 뉴스_통합피처.csv\n"
     ]
    }
   ],
   "source": [
    "import pandas as pd\n",
    "\n",
    "# 1. 감성비율 + TF-IDF 파일 불러오기\n",
    "df_sentiment = pd.read_csv(\"4. 뉴스_감성비율_요약.csv\")\n",
    "df_tfidf = pd.read_csv(\"5. 뉴스_TFIDF_분석포함.csv\")\n",
    "\n",
    "# 2. 날짜, 기업명 기준으로 병합\n",
    "news_features = pd.merge(df_sentiment, df_tfidf, on=[\"날짜\", \"기업명\"], how=\"outer\").fillna(0)\n",
    "\n",
    "# 3. 병합 결과 저장\n",
    "news_features.to_csv(\"6. 뉴스_통합피처.csv\", index=False, encoding=\"utf-8-sig\")\n",
    "print(\"✅ 뉴스 기반 피처 병합 완료: 6. 뉴스_통합피처.csv\")"
   ]
  }
 ],
 "metadata": {
  "kernelspec": {
   "display_name": "Python 3",
   "language": "python",
   "name": "python3"
  },
  "language_info": {
   "codemirror_mode": {
    "name": "ipython",
    "version": 3
   },
   "file_extension": ".py",
   "mimetype": "text/x-python",
   "name": "python",
   "nbconvert_exporter": "python",
   "pygments_lexer": "ipython3",
   "version": "3.13.3"
  }
 },
 "nbformat": 4,
 "nbformat_minor": 5
}
