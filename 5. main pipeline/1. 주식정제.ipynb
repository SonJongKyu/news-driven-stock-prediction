{
 "cells": [
  {
   "cell_type": "code",
   "execution_count": 3,
   "id": "cdd47fdb",
   "metadata": {},
   "outputs": [
    {
     "name": "stdout",
     "output_type": "stream",
     "text": [
      "✅ '1. 조선_기술지표.csv' 파일이 생성되었습니다.\n"
     ]
    },
    {
     "name": "stderr",
     "output_type": "stream",
     "text": [
      "C:\\Users\\human\\AppData\\Local\\Temp\\ipykernel_32544\\3752164105.py:49: DeprecationWarning: DataFrameGroupBy.apply operated on the grouping columns. This behavior is deprecated, and in a future version of pandas the grouping columns will be excluded from the operation. Either pass `include_groups=False` to exclude the groupings or explicitly select the grouping columns after groupby to silence this warning.\n",
      "  df = df.groupby('기업명').apply(calculate_technical_indicators).reset_index(drop=True)\n"
     ]
    }
   ],
   "source": [
    "import pandas as pd\n",
    "import numpy as np\n",
    "import os\n",
    "\n",
    "# CSV 파일 경로 설정\n",
    "input_file = \"0. 조선_주식.csv\"\n",
    "output_file = \"1. 조선_기술지표.csv\"\n",
    "\n",
    "# 1. CSV 파일 불러오기\n",
    "df = pd.read_csv(input_file)\n",
    "\n",
    "# 2. 날짜 형식 변환 및 2024년 데이터 필터링\n",
    "df['날짜'] = pd.to_datetime(df['날짜'])\n",
    "df = df[df['날짜'].dt.year == 2024].copy()\n",
    "\n",
    "# 3. 기술지표 계산 함수 정의\n",
    "def calculate_technical_indicators(group):\n",
    "    group = group.sort_values('날짜').copy()\n",
    "\n",
    "    # 이동평균\n",
    "    group['MA5'] = group['종가'].rolling(window=5).mean()\n",
    "    group['MA10'] = group['종가'].rolling(window=10).mean()\n",
    "\n",
    "    # RSI 계산\n",
    "    delta = group['종가'].diff()\n",
    "    gain = (delta.where(delta > 0, 0)).rolling(window=14).mean()\n",
    "    loss = (-delta.where(delta < 0, 0)).rolling(window=14).mean()\n",
    "    RS = gain / loss\n",
    "    group['RSI'] = 100 - (100 / (1 + RS))\n",
    "\n",
    "    # MACD 계산\n",
    "    ema12 = group['종가'].ewm(span=12, adjust=False).mean()\n",
    "    ema26 = group['종가'].ewm(span=26, adjust=False).mean()\n",
    "    group['MACD'] = ema12 - ema26\n",
    "\n",
    "    # 볼린저 밴드 상한선 (20일 MA + 2 * std)\n",
    "    ma20 = group['종가'].rolling(window=20).mean()\n",
    "    std20 = group['종가'].rolling(window=20).std()\n",
    "    group['BB_upper'] = ma20 + (2 * std20)\n",
    "\n",
    "    # 등락률 계산\n",
    "    for days in [1, 3, 5]:\n",
    "        group[f'{days}일후등락률'] = group['종가'].shift(-days)\n",
    "        group[f'{days}일후등락률'] = (group[f'{days}일후등락률'] - group['종가']) / group['종가'] * 100\n",
    "\n",
    "    return group\n",
    "\n",
    "# 4. 기업별로 적용\n",
    "df = df.groupby('기업명').apply(calculate_technical_indicators).reset_index(drop=True)\n",
    "\n",
    "# 5. 필요한 컬럼만 선택 및 NaN 제거\n",
    "columns = ['기업명', '날짜', '종가', '거래량', 'MA5', 'MA10', 'RSI', 'MACD', 'BB_upper', \n",
    "           '1일후등락률', '3일후등락률', '5일후등락률']\n",
    "df = df[columns].dropna()\n",
    "\n",
    "# 6. 결과 저장\n",
    "df.to_csv(output_file, index=False, encoding='utf-8-sig')\n",
    "print(f\"✅ '{output_file}' 파일이 생성되었습니다.\")"
   ]
  }
 ],
 "metadata": {
  "kernelspec": {
   "display_name": "Python 3",
   "language": "python",
   "name": "python3"
  },
  "language_info": {
   "codemirror_mode": {
    "name": "ipython",
    "version": 3
   },
   "file_extension": ".py",
   "mimetype": "text/x-python",
   "name": "python",
   "nbconvert_exporter": "python",
   "pygments_lexer": "ipython3",
   "version": "3.13.3"
  }
 },
 "nbformat": 4,
 "nbformat_minor": 5
}
