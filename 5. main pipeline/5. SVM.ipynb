{
 "cells": [
  {
   "cell_type": "code",
   "execution_count": 3,
   "id": "cdd47fdb",
   "metadata": {},
   "outputs": [
    {
     "name": "stdout",
     "output_type": "stream",
     "text": [
      "\n",
      "✅ 혼동 행렬:\n",
      "[[188  46]\n",
      " [ 59  16]]\n",
      "\n",
      "✅ 분류 리포트:\n",
      "              precision    recall  f1-score   support\n",
      "\n",
      "           0       0.76      0.80      0.78       234\n",
      "           1       0.26      0.21      0.23        75\n",
      "\n",
      "    accuracy                           0.66       309\n",
      "   macro avg       0.51      0.51      0.51       309\n",
      "weighted avg       0.64      0.66      0.65       309\n",
      "\n"
     ]
    }
   ],
   "source": [
    "import pandas as pd\n",
    "from sklearn.model_selection import train_test_split\n",
    "from sklearn.preprocessing import StandardScaler\n",
    "from sklearn.svm import SVC\n",
    "from sklearn.metrics import classification_report, confusion_matrix\n",
    "from imblearn.over_sampling import SMOTE\n",
    "\n",
    "# 1. 파일 불러오기\n",
    "tech_df = pd.read_csv(\"1. 조선_기술지표.csv\")\n",
    "news_df = pd.read_csv(\"6. 뉴스_통합피처.csv\")\n",
    "\n",
    "# 2. 날짜 변환\n",
    "tech_df['날짜'] = pd.to_datetime(tech_df['날짜'])\n",
    "news_df['날짜'] = pd.to_datetime(news_df['날짜'])\n",
    "\n",
    "# 3. 병합\n",
    "df = pd.merge(tech_df, news_df, on=[\"날짜\", \"기업명\"], how=\"left\").fillna(0)\n",
    "\n",
    "# 4. 타깃 생성\n",
    "df = df[(df[\"1일후등락률\"] > 4) | (df[\"1일후등락률\"] < -1)].copy()\n",
    "df[\"target\"] = (df[\"1일후등락률\"] > 4).astype(int)\n",
    "\n",
    "# 5. 필요한 피처만 선택\n",
    "selected_features = [\n",
    "    \"MA5\", \"MA10\", \"종가\", \"BB_upper\", \"부정\", \"tfidf_수주\", \"중립\", \"긍정\",\n",
    "    \"거래량\", \"MACD\", \"RSI\", \"tfidf_미국\", \"tfidf_실적\", \"감성_부정비율\", \"감성_긍정비율\"\n",
    "]\n",
    "X = df[selected_features]\n",
    "y = df[\"target\"]\n",
    "\n",
    "# 6. 정규화\n",
    "scaler = StandardScaler()\n",
    "X_scaled = scaler.fit_transform(X)\n",
    "\n",
    "# 7. 훈련/테스트 분할\n",
    "X_train, X_test, y_train, y_test = train_test_split(X_scaled, y, test_size=0.3, shuffle=False)\n",
    "\n",
    "# 8. SMOTE로 클래스 불균형 보정\n",
    "smote = SMOTE(random_state=42, k_neighbors=3)\n",
    "X_train_sm, y_train_sm = smote.fit_resample(X_train, y_train)\n",
    "\n",
    "# 9. 선형 SVM 모델 학습\n",
    "model = SVC(kernel=\"linear\", random_state=42)\n",
    "model.fit(X_train_sm, y_train_sm)\n",
    "\n",
    "# 10. 예측 및 평가\n",
    "y_pred = model.predict(X_test)\n",
    "\n",
    "print(\"\\n✅ 혼동 행렬:\")\n",
    "print(confusion_matrix(y_test, y_pred))\n",
    "\n",
    "print(\"\\n✅ 분류 리포트:\")\n",
    "print(classification_report(y_test, y_pred))\n"
   ]
  }
 ],
 "metadata": {
  "kernelspec": {
   "display_name": "Python 3",
   "language": "python",
   "name": "python3"
  },
  "language_info": {
   "codemirror_mode": {
    "name": "ipython",
    "version": 3
   },
   "file_extension": ".py",
   "mimetype": "text/x-python",
   "name": "python",
   "nbconvert_exporter": "python",
   "pygments_lexer": "ipython3",
   "version": "3.13.3"
  }
 },
 "nbformat": 4,
 "nbformat_minor": 5
}
