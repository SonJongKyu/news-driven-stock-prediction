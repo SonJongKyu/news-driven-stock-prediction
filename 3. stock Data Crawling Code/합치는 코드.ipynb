{
 "cells": [
  {
   "cell_type": "code",
   "execution_count": 1,
   "id": "cdd47fdb",
   "metadata": {},
   "outputs": [
    {
     "name": "stdout",
     "output_type": "stream",
     "text": [
      "✅ '조선_주식.csv' 파일이 생성되었습니다.\n"
     ]
    }
   ],
   "source": [
    "import pandas as pd\n",
    "import glob\n",
    "import os\n",
    "\n",
    "# 1. 현재 폴더 내 모든 CSV 파일 불러오기\n",
    "csv_files = glob.glob(\"*.csv\")\n",
    "\n",
    "# 2. 병합을 위한 빈 DataFrame 생성\n",
    "merged_df = pd.DataFrame()\n",
    "\n",
    "# 3. 각 파일을 읽고 기업명 컬럼 추가 및 병합\n",
    "for file in csv_files:\n",
    "    df = pd.read_csv(file)\n",
    "    company_name = os.path.splitext(os.path.basename(file))[0]\n",
    "    df['기업명'] = company_name\n",
    "    cols = df.columns.tolist()\n",
    "    cols = ['기업명'] + [col for col in cols if col != '기업명']\n",
    "    df = df[cols]\n",
    "\n",
    "    merged_df = pd.concat([merged_df, df], ignore_index=True)\n",
    "\n",
    "# 4. 병합된 데이터 저장\n",
    "merged_df.to_csv(\"조선_주식.csv\", index=False, encoding='utf-8-sig')\n",
    "\n",
    "print(\"✅ '조선_주식.csv' 파일이 생성되었습니다.\")\n"
   ]
  }
 ],
 "metadata": {
  "kernelspec": {
   "display_name": "Python 3",
   "language": "python",
   "name": "python3"
  },
  "language_info": {
   "codemirror_mode": {
    "name": "ipython",
    "version": 3
   },
   "file_extension": ".py",
   "mimetype": "text/x-python",
   "name": "python",
   "nbconvert_exporter": "python",
   "pygments_lexer": "ipython3",
   "version": "3.13.3"
  }
 },
 "nbformat": 4,
 "nbformat_minor": 5
}
